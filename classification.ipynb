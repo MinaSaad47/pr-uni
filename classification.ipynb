{
 "cells": [
  {
   "cell_type": "markdown",
   "metadata": {},
   "source": [
    "# Imports"
   ]
  },
  {
   "cell_type": "code",
   "execution_count": 1,
   "metadata": {},
   "outputs": [],
   "source": [
    "import pandas as pd\n",
    "import numpy as np\n",
    "pd.set_option('display.max_rows', 1000)\n",
    "pd.options.mode.chained_assignment = None  # default='warn'\n",
    "\n",
    "import seaborn as sns"
   ]
  },
  {
   "cell_type": "markdown",
   "metadata": {},
   "source": [
    "# Loading"
   ]
  },
  {
   "cell_type": "code",
   "execution_count": 2,
   "metadata": {},
   "outputs": [],
   "source": [
    "TRAIN_DIR = r'phase2/train'\n",
    "TEST_DIR  = r'phase2/test'"
   ]
  },
  {
   "cell_type": "code",
   "execution_count": 3,
   "metadata": {},
   "outputs": [],
   "source": [
    "from loading_data import load_classification_data\n",
    "\n",
    "TRAIN_MOVIE_DIRECTOR_FILE = 'movie-director.csv'\n",
    "TRAIN_MOVIE_REVENUE_FILE  = 'movies-revenue-classification.csv'\n",
    "TRAIN_MOVIE_ACTOR_FILE    = 'movie-voice-actors.csv'\n",
    "\n",
    "TEST_MOVIE_DIRECTOR_FILE = 'movie-director-test-samples.csv'\n",
    "TEST_MOVIE_REVENUE_FILE  = 'movies-revenue-test-samples.csv'\n",
    "TEST_MOVIE_ACTOR_FILE    = 'movie-voice-actors-test-samples.csv'\n",
    "\n",
    "\n",
    "TRAIN_MOVIE_DIRECTOR_FILE = os.path.join(TRAIN_DIR, TRAIN_MOVIE_DIRECTOR_FILE)\n",
    "TRAIN_MOVIE_REVENUE_FILE  = os.path.join(TRAIN_DIR, TRAIN_MOVIE_REVENUE_FILE)\n",
    "TRAIN_MOVIE_ACTOR_FILE    = os.path.join(TRAIN_DIR, TRAIN_MOVIE_ACTOR_FILE)\n",
    "\n",
    "TEST_MOVIE_DIRECTOR_FILE  = os.path.join(TEST_DIR, TEST_MOVIE_DIRECTOR_FILE)\n",
    "TEST_MOVIE_REVENUE_FILE   = os.path.join(TEST_DIR, TEST_MOVIE_REVENUE_FILE)\n",
    "TEST_MOVIE_ACTOR_FILE     = os.path.join(TEST_DIR, TEST_MOVIE_ACTOR_FILE)\n",
    "\n",
    "train_data = load_classification_data(director_file=TRAIN_MOVIE_DIRECTOR_FILE,\n",
    "                       actor_file=TRAIN_MOVIE_ACTOR_FILE,\n",
    "                       revenue_file=TRAIN_MOVIE_REVENUE_FILE)\n",
    "\n",
    "test_data = load_classification_data(director_file=TEST_MOVIE_DIRECTOR_FILE,\n",
    "                      actor_file=TEST_MOVIE_ACTOR_FILE,\n",
    "                      revenue_file=TEST_MOVIE_REVENUE_FILE)"
   ]
  },
  {
   "cell_type": "markdown",
   "metadata": {},
   "source": [
    "# Preprocessing\n",
    "* Handling `Genre` with Mode and OneHotEncoder\n",
    "* Handling `MPAA` with mode\n",
    "* Handling `Date` with Linear Regression\n",
    "* Handling `Director` with dropping its column\n",
    "* Handling `Title` & `Character` with label encoding\n",
    "* Handling `MoviesSuccessLevel` with linear regression"
   ]
  },
  {
   "cell_type": "code",
   "execution_count": 4,
   "metadata": {},
   "outputs": [],
   "source": [
    "from preprocessing import Preprocessor"
   ]
  },
  {
   "cell_type": "markdown",
   "metadata": {},
   "source": [
    "## Train Data"
   ]
  },
  {
   "cell_type": "code",
   "execution_count": 5,
   "metadata": {},
   "outputs": [
    {
     "data": {
      "text/plain": [
       "<AxesSubplot:>"
      ]
     },
     "execution_count": 5,
     "metadata": {},
     "output_type": "execute_result"
    },
    {
     "data": {
      "image/png": "[encoded data removed]",
      "text/plain": [
       "<Figure size 432x288 with 1 Axes>"
      ]
     },
     "metadata": {
      "needs_background": "light"
     },
     "output_type": "display_data"
    }
   ],
   "source": [
    "sns.heatmap(train_data.isnull(), yticklabels=False, cbar=False, cmap='viridis')"
   ]
  },
  {
   "cell_type": "code",
   "execution_count": 6,
   "metadata": {},
   "outputs": [
    {
     "data": {
      "text/html": [
       "<div>\n",
       "<style scoped>\n",
       "    .dataframe tbody tr th:only-of-type {\n",
       "        vertical-align: middle;\n",
       "    }\n",
       "\n",
       "    .dataframe tbody tr th {\n",
       "        vertical-align: top;\n",
       "    }\n",
       "\n",
       "    .dataframe thead th {\n",
       "        text-align: right;\n",
       "    }\n",
       "</style>\n",
       "<table border=\"1\" class=\"dataframe\">\n",
       "  <thead>\n",
       "    <tr style=\"text-align: right;\">\n",
       "      <th></th>\n",
       "      <th>Title</th>\n",
       "      <th>Date</th>\n",
       "      <th>Genre</th>\n",
       "      <th>MPAA</th>\n",
       "      <th>Director</th>\n",
       "      <th>Actor</th>\n",
       "      <th>Character</th>\n",
       "      <th>MovieSuccessLevel</th>\n",
       "    </tr>\n",
       "  </thead>\n",
       "  <tbody>\n",
       "    <tr>\n",
       "      <th>0</th>\n",
       "      <td>Snow White and the Seven Dwarfs</td>\n",
       "      <td>21-Dec-37</td>\n",
       "      <td>Musical</td>\n",
       "      <td>G</td>\n",
       "      <td>David Hand</td>\n",
       "      <td>Scotty Mattraw</td>\n",
       "      <td>Bashful</td>\n",
       "      <td>S</td>\n",
       "    </tr>\n",
       "    <tr>\n",
       "      <th>1</th>\n",
       "      <td>Snow White and the Seven Dwarfs</td>\n",
       "      <td>21-Dec-37</td>\n",
       "      <td>Musical</td>\n",
       "      <td>G</td>\n",
       "      <td>David Hand</td>\n",
       "      <td>Roy Atwell</td>\n",
       "      <td>Doc</td>\n",
       "      <td>S</td>\n",
       "    </tr>\n",
       "    <tr>\n",
       "      <th>2</th>\n",
       "      <td>Snow White and the Seven Dwarfs</td>\n",
       "      <td>21-Dec-37</td>\n",
       "      <td>Musical</td>\n",
       "      <td>G</td>\n",
       "      <td>David Hand</td>\n",
       "      <td>Eddie Collins</td>\n",
       "      <td>Dopey</td>\n",
       "      <td>S</td>\n",
       "    </tr>\n",
       "    <tr>\n",
       "      <th>3</th>\n",
       "      <td>Snow White and the Seven Dwarfs</td>\n",
       "      <td>21-Dec-37</td>\n",
       "      <td>Musical</td>\n",
       "      <td>G</td>\n",
       "      <td>David Hand</td>\n",
       "      <td>Pinto Colvig</td>\n",
       "      <td>Grumpy</td>\n",
       "      <td>S</td>\n",
       "    </tr>\n",
       "    <tr>\n",
       "      <th>4</th>\n",
       "      <td>Snow White and the Seven Dwarfs</td>\n",
       "      <td>21-Dec-37</td>\n",
       "      <td>Musical</td>\n",
       "      <td>G</td>\n",
       "      <td>David Hand</td>\n",
       "      <td>Otis Harlan</td>\n",
       "      <td>Happy</td>\n",
       "      <td>S</td>\n",
       "    </tr>\n",
       "  </tbody>\n",
       "</table>\n",
       "</div>"
      ],
      "text/plain": [
       "                             Title       Date    Genre MPAA    Director  \\\n",
       "0  Snow White and the Seven Dwarfs  21-Dec-37  Musical    G  David Hand   \n",
       "1  Snow White and the Seven Dwarfs  21-Dec-37  Musical    G  David Hand   \n",
       "2  Snow White and the Seven Dwarfs  21-Dec-37  Musical    G  David Hand   \n",
       "3  Snow White and the Seven Dwarfs  21-Dec-37  Musical    G  David Hand   \n",
       "4  Snow White and the Seven Dwarfs  21-Dec-37  Musical    G  David Hand   \n",
       "\n",
       "            Actor Character MovieSuccessLevel  \n",
       "0  Scotty Mattraw   Bashful                 S  \n",
       "1      Roy Atwell       Doc                 S  \n",
       "2   Eddie Collins     Dopey                 S  \n",
       "3    Pinto Colvig    Grumpy                 S  \n",
       "4     Otis Harlan     Happy                 S  "
      ]
     },
     "execution_count": 6,
     "metadata": {},
     "output_type": "execute_result"
    }
   ],
   "source": [
    "train_data.head()"
   ]
  },
  {
   "cell_type": "code",
   "execution_count": 7,
   "metadata": {},
   "outputs": [],
   "source": [
    "pp = Preprocessor()\n",
    "train_data = pp.preprocess_classification(train_data)"
   ]
  },
  {
   "cell_type": "code",
   "execution_count": 8,
   "metadata": {},
   "outputs": [
    {
     "data": {
      "text/plain": [
       "<AxesSubplot:>"
      ]
     },
     "execution_count": 8,
     "metadata": {},
     "output_type": "execute_result"
    },
    {
     "data": {
      "image/png": "[encoded data removed]",
      "text/plain": [
       "<Figure size 432x288 with 1 Axes>"
      ]
     },
     "metadata": {
      "needs_background": "light"
     },
     "output_type": "display_data"
    }
   ],
   "source": [
    "sns.heatmap(train_data.isnull(), yticklabels=False, cbar=False, cmap='viridis')"
   ]
  },
  {
   "cell_type": "code",
   "execution_count": 9,
   "metadata": {},
   "outputs": [
    {
     "data": {
      "text/html": [
       "<div>\n",
       "<style scoped>\n",
       "    .dataframe tbody tr th:only-of-type {\n",
       "        vertical-align: middle;\n",
       "    }\n",
       "\n",
       "    .dataframe tbody tr th {\n",
       "        vertical-align: top;\n",
       "    }\n",
       "\n",
       "    .dataframe thead th {\n",
       "        text-align: right;\n",
       "    }\n",
       "</style>\n",
       "<table border=\"1\" class=\"dataframe\">\n",
       "  <thead>\n",
       "    <tr style=\"text-align: right;\">\n",
       "      <th></th>\n",
       "      <th>Title</th>\n",
       "      <th>Date</th>\n",
       "      <th>MPAA</th>\n",
       "      <th>Director</th>\n",
       "      <th>Actor</th>\n",
       "      <th>Character</th>\n",
       "      <th>Action</th>\n",
       "      <th>Adventure</th>\n",
       "      <th>Black Comedy</th>\n",
       "      <th>Comedy</th>\n",
       "      <th>Concert/Performance</th>\n",
       "      <th>Documentary</th>\n",
       "      <th>Drama</th>\n",
       "      <th>Horror</th>\n",
       "      <th>Musical</th>\n",
       "      <th>Romantic Comedy</th>\n",
       "      <th>Thriller/Suspense</th>\n",
       "      <th>Western</th>\n",
       "      <th>MovieSuccessLevel</th>\n",
       "    </tr>\n",
       "  </thead>\n",
       "  <tbody>\n",
       "    <tr>\n",
       "      <th>0</th>\n",
       "      <td>351</td>\n",
       "      <td>2144966400.0</td>\n",
       "      <td>0</td>\n",
       "      <td>0</td>\n",
       "      <td>493</td>\n",
       "      <td>0</td>\n",
       "      <td>0.0</td>\n",
       "      <td>0.0</td>\n",
       "      <td>0.0</td>\n",
       "      <td>0.0</td>\n",
       "      <td>0.0</td>\n",
       "      <td>0.0</td>\n",
       "      <td>0.0</td>\n",
       "      <td>0.0</td>\n",
       "      <td>1.0</td>\n",
       "      <td>0.0</td>\n",
       "      <td>0.0</td>\n",
       "      <td>0.0</td>\n",
       "      <td>4</td>\n",
       "    </tr>\n",
       "    <tr>\n",
       "      <th>1</th>\n",
       "      <td>351</td>\n",
       "      <td>2144966400.0</td>\n",
       "      <td>0</td>\n",
       "      <td>0</td>\n",
       "      <td>477</td>\n",
       "      <td>0</td>\n",
       "      <td>0.0</td>\n",
       "      <td>0.0</td>\n",
       "      <td>0.0</td>\n",
       "      <td>0.0</td>\n",
       "      <td>0.0</td>\n",
       "      <td>0.0</td>\n",
       "      <td>0.0</td>\n",
       "      <td>0.0</td>\n",
       "      <td>1.0</td>\n",
       "      <td>0.0</td>\n",
       "      <td>0.0</td>\n",
       "      <td>0.0</td>\n",
       "      <td>4</td>\n",
       "    </tr>\n",
       "    <tr>\n",
       "      <th>2</th>\n",
       "      <td>351</td>\n",
       "      <td>2144966400.0</td>\n",
       "      <td>0</td>\n",
       "      <td>0</td>\n",
       "      <td>151</td>\n",
       "      <td>0</td>\n",
       "      <td>0.0</td>\n",
       "      <td>0.0</td>\n",
       "      <td>0.0</td>\n",
       "      <td>0.0</td>\n",
       "      <td>0.0</td>\n",
       "      <td>0.0</td>\n",
       "      <td>0.0</td>\n",
       "      <td>0.0</td>\n",
       "      <td>1.0</td>\n",
       "      <td>0.0</td>\n",
       "      <td>0.0</td>\n",
       "      <td>0.0</td>\n",
       "      <td>4</td>\n",
       "    </tr>\n",
       "    <tr>\n",
       "      <th>3</th>\n",
       "      <td>351</td>\n",
       "      <td>2144966400.0</td>\n",
       "      <td>0</td>\n",
       "      <td>0</td>\n",
       "      <td>436</td>\n",
       "      <td>0</td>\n",
       "      <td>0.0</td>\n",
       "      <td>0.0</td>\n",
       "      <td>0.0</td>\n",
       "      <td>0.0</td>\n",
       "      <td>0.0</td>\n",
       "      <td>0.0</td>\n",
       "      <td>0.0</td>\n",
       "      <td>0.0</td>\n",
       "      <td>1.0</td>\n",
       "      <td>0.0</td>\n",
       "      <td>0.0</td>\n",
       "      <td>0.0</td>\n",
       "      <td>4</td>\n",
       "    </tr>\n",
       "    <tr>\n",
       "      <th>4</th>\n",
       "      <td>351</td>\n",
       "      <td>2144966400.0</td>\n",
       "      <td>0</td>\n",
       "      <td>0</td>\n",
       "      <td>404</td>\n",
       "      <td>0</td>\n",
       "      <td>0.0</td>\n",
       "      <td>0.0</td>\n",
       "      <td>0.0</td>\n",
       "      <td>0.0</td>\n",
       "      <td>0.0</td>\n",
       "      <td>0.0</td>\n",
       "      <td>0.0</td>\n",
       "      <td>0.0</td>\n",
       "      <td>1.0</td>\n",
       "      <td>0.0</td>\n",
       "      <td>0.0</td>\n",
       "      <td>0.0</td>\n",
       "      <td>4</td>\n",
       "    </tr>\n",
       "  </tbody>\n",
       "</table>\n",
       "</div>"
      ],
      "text/plain": [
       "   Title          Date  MPAA  Director  Actor  Character  Action  Adventure  \\\n",
       "0    351  2144966400.0     0         0    493          0     0.0        0.0   \n",
       "1    351  2144966400.0     0         0    477          0     0.0        0.0   \n",
       "2    351  2144966400.0     0         0    151          0     0.0        0.0   \n",
       "3    351  2144966400.0     0         0    436          0     0.0        0.0   \n",
       "4    351  2144966400.0     0         0    404          0     0.0        0.0   \n",
       "\n",
       "   Black Comedy  Comedy  Concert/Performance  Documentary  Drama  Horror  \\\n",
       "0           0.0     0.0                  0.0          0.0    0.0     0.0   \n",
       "1           0.0     0.0                  0.0          0.0    0.0     0.0   \n",
       "2           0.0     0.0                  0.0          0.0    0.0     0.0   \n",
       "3           0.0     0.0                  0.0          0.0    0.0     0.0   \n",
       "4           0.0     0.0                  0.0          0.0    0.0     0.0   \n",
       "\n",
       "   Musical  Romantic Comedy  Thriller/Suspense  Western  MovieSuccessLevel  \n",
       "0      1.0              0.0                0.0      0.0                  4  \n",
       "1      1.0              0.0                0.0      0.0                  4  \n",
       "2      1.0              0.0                0.0      0.0                  4  \n",
       "3      1.0              0.0                0.0      0.0                  4  \n",
       "4      1.0              0.0                0.0      0.0                  4  "
      ]
     },
     "execution_count": 9,
     "metadata": {},
     "output_type": "execute_result"
    }
   ],
   "source": [
    "train_data.head()"
   ]
  },
  {
   "cell_type": "markdown",
   "metadata": {},
   "source": [
    "## Test Data"
   ]
  },
  {
   "cell_type": "code",
   "execution_count": 10,
   "metadata": {},
   "outputs": [
    {
     "data": {
      "text/plain": [
       "<AxesSubplot:>"
      ]
     },
     "execution_count": 10,
     "metadata": {},
     "output_type": "execute_result"
    },
    {
     "data": {
      "image/png": "[encoded data removed]",
      "text/plain": [
       "<Figure size 432x288 with 1 Axes>"
      ]
     },
     "metadata": {
      "needs_background": "light"
     },
     "output_type": "display_data"
    }
   ],
   "source": [
    "sns.heatmap(test_data.isnull(), yticklabels=False, cbar=False, cmap='viridis')"
   ]
  },
  {
   "cell_type": "code",
   "execution_count": 11,
   "metadata": {},
   "outputs": [
    {
     "data": {
      "text/html": [
       "<div>\n",
       "<style scoped>\n",
       "    .dataframe tbody tr th:only-of-type {\n",
       "        vertical-align: middle;\n",
       "    }\n",
       "\n",
       "    .dataframe tbody tr th {\n",
       "        vertical-align: top;\n",
       "    }\n",
       "\n",
       "    .dataframe thead th {\n",
       "        text-align: right;\n",
       "    }\n",
       "</style>\n",
       "<table border=\"1\" class=\"dataframe\">\n",
       "  <thead>\n",
       "    <tr style=\"text-align: right;\">\n",
       "      <th></th>\n",
       "      <th>Title</th>\n",
       "      <th>Date</th>\n",
       "      <th>Genre</th>\n",
       "      <th>MPAA</th>\n",
       "      <th>Director</th>\n",
       "      <th>Actor</th>\n",
       "      <th>Character</th>\n",
       "      <th>MovieSuccessLevel</th>\n",
       "    </tr>\n",
       "  </thead>\n",
       "  <tbody>\n",
       "    <tr>\n",
       "      <th>0</th>\n",
       "      <td>101 Dalmatians</td>\n",
       "      <td>27-Nov-96</td>\n",
       "      <td>Comedy</td>\n",
       "      <td>NaN</td>\n",
       "      <td>Wolfgang Reitherman</td>\n",
       "      <td>Lisa Davis</td>\n",
       "      <td>Anita Radcliffe</td>\n",
       "      <td>A</td>\n",
       "    </tr>\n",
       "    <tr>\n",
       "      <th>1</th>\n",
       "      <td>101 Dalmatians</td>\n",
       "      <td>27-Nov-96</td>\n",
       "      <td>Comedy</td>\n",
       "      <td>NaN</td>\n",
       "      <td>Wolfgang Reitherman</td>\n",
       "      <td>Betty Lou Gerson</td>\n",
       "      <td>Cruella de Vil</td>\n",
       "      <td>A</td>\n",
       "    </tr>\n",
       "    <tr>\n",
       "      <th>2</th>\n",
       "      <td>101 Dalmatians</td>\n",
       "      <td>27-Nov-96</td>\n",
       "      <td>Comedy</td>\n",
       "      <td>NaN</td>\n",
       "      <td>Wolfgang Reitherman</td>\n",
       "      <td>Frederick Worlock; J. Pat O'Malley</td>\n",
       "      <td>Horace &amp; Jasper</td>\n",
       "      <td>A</td>\n",
       "    </tr>\n",
       "    <tr>\n",
       "      <th>3</th>\n",
       "      <td>101 Dalmatians</td>\n",
       "      <td>27-Nov-96</td>\n",
       "      <td>Comedy</td>\n",
       "      <td>NaN</td>\n",
       "      <td>Wolfgang Reitherman</td>\n",
       "      <td>Cate Bauer</td>\n",
       "      <td>Perdita</td>\n",
       "      <td>A</td>\n",
       "    </tr>\n",
       "    <tr>\n",
       "      <th>4</th>\n",
       "      <td>101 Dalmatians</td>\n",
       "      <td>27-Nov-96</td>\n",
       "      <td>Comedy</td>\n",
       "      <td>NaN</td>\n",
       "      <td>Wolfgang Reitherman</td>\n",
       "      <td>Rod Taylor</td>\n",
       "      <td>Pongo</td>\n",
       "      <td>A</td>\n",
       "    </tr>\n",
       "  </tbody>\n",
       "</table>\n",
       "</div>"
      ],
      "text/plain": [
       "            Title       Date   Genre MPAA             Director  \\\n",
       "0  101 Dalmatians  27-Nov-96  Comedy  NaN  Wolfgang Reitherman   \n",
       "1  101 Dalmatians  27-Nov-96  Comedy  NaN  Wolfgang Reitherman   \n",
       "2  101 Dalmatians  27-Nov-96  Comedy  NaN  Wolfgang Reitherman   \n",
       "3  101 Dalmatians  27-Nov-96  Comedy  NaN  Wolfgang Reitherman   \n",
       "4  101 Dalmatians  27-Nov-96  Comedy  NaN  Wolfgang Reitherman   \n",
       "\n",
       "                                Actor        Character MovieSuccessLevel  \n",
       "0                          Lisa Davis  Anita Radcliffe                 A  \n",
       "1                    Betty Lou Gerson   Cruella de Vil                 A  \n",
       "2  Frederick Worlock; J. Pat O'Malley  Horace & Jasper                 A  \n",
       "3                          Cate Bauer          Perdita                 A  \n",
       "4                          Rod Taylor            Pongo                 A  "
      ]
     },
     "execution_count": 11,
     "metadata": {},
     "output_type": "execute_result"
    }
   ],
   "source": [
    "test_data.head()"
   ]
  },
  {
   "cell_type": "code",
   "execution_count": 12,
   "metadata": {},
   "outputs": [],
   "source": [
    "pp = Preprocessor(dataset_type='test')\n",
    "test_data = pp.preprocess_classification(test_data, train_data)"
   ]
  },
  {
   "cell_type": "code",
   "execution_count": 13,
   "metadata": {},
   "outputs": [
    {
     "data": {
      "text/plain": [
       "<AxesSubplot:>"
      ]
     },
     "execution_count": 13,
     "metadata": {},
     "output_type": "execute_result"
    },
    {
     "data": {
      "image/png": "[encoded data removed]",
      "text/plain": [
       "<Figure size 432x288 with 1 Axes>"
      ]
     },
     "metadata": {
      "needs_background": "light"
     },
     "output_type": "display_data"
    }
   ],
   "source": [
    "sns.heatmap(test_data.isnull(), yticklabels=False, cbar=False, cmap='viridis')"
   ]
  },
  {
   "cell_type": "code",
   "execution_count": 14,
   "metadata": {},
   "outputs": [
    {
     "data": {
      "text/html": [
       "<div>\n",
       "<style scoped>\n",
       "    .dataframe tbody tr th:only-of-type {\n",
       "        vertical-align: middle;\n",
       "    }\n",
       "\n",
       "    .dataframe tbody tr th {\n",
       "        vertical-align: top;\n",
       "    }\n",
       "\n",
       "    .dataframe thead th {\n",
       "        text-align: right;\n",
       "    }\n",
       "</style>\n",
       "<table border=\"1\" class=\"dataframe\">\n",
       "  <thead>\n",
       "    <tr style=\"text-align: right;\">\n",
       "      <th></th>\n",
       "      <th>Title</th>\n",
       "      <th>Date</th>\n",
       "      <th>MPAA</th>\n",
       "      <th>Director</th>\n",
       "      <th>Actor</th>\n",
       "      <th>Character</th>\n",
       "      <th>Action</th>\n",
       "      <th>Adventure</th>\n",
       "      <th>Black Comedy</th>\n",
       "      <th>Comedy</th>\n",
       "      <th>Concert/Performance</th>\n",
       "      <th>Documentary</th>\n",
       "      <th>Drama</th>\n",
       "      <th>Horror</th>\n",
       "      <th>Musical</th>\n",
       "      <th>Romantic Comedy</th>\n",
       "      <th>Thriller/Suspense</th>\n",
       "      <th>Western</th>\n",
       "      <th>MovieSuccessLevel</th>\n",
       "    </tr>\n",
       "  </thead>\n",
       "  <tbody>\n",
       "    <tr>\n",
       "      <th>0</th>\n",
       "      <td>0</td>\n",
       "      <td>849052800.0</td>\n",
       "      <td>0</td>\n",
       "      <td>0</td>\n",
       "      <td>0</td>\n",
       "      <td>0</td>\n",
       "      <td>0</td>\n",
       "      <td>0</td>\n",
       "      <td>0</td>\n",
       "      <td>1.0</td>\n",
       "      <td>0</td>\n",
       "      <td>0</td>\n",
       "      <td>0.0</td>\n",
       "      <td>0</td>\n",
       "      <td>0</td>\n",
       "      <td>0</td>\n",
       "      <td>0</td>\n",
       "      <td>0</td>\n",
       "      <td>0</td>\n",
       "    </tr>\n",
       "    <tr>\n",
       "      <th>1</th>\n",
       "      <td>0</td>\n",
       "      <td>849052800.0</td>\n",
       "      <td>0</td>\n",
       "      <td>0</td>\n",
       "      <td>0</td>\n",
       "      <td>0</td>\n",
       "      <td>0</td>\n",
       "      <td>0</td>\n",
       "      <td>0</td>\n",
       "      <td>1.0</td>\n",
       "      <td>0</td>\n",
       "      <td>0</td>\n",
       "      <td>0.0</td>\n",
       "      <td>0</td>\n",
       "      <td>0</td>\n",
       "      <td>0</td>\n",
       "      <td>0</td>\n",
       "      <td>0</td>\n",
       "      <td>0</td>\n",
       "    </tr>\n",
       "    <tr>\n",
       "      <th>2</th>\n",
       "      <td>0</td>\n",
       "      <td>849052800.0</td>\n",
       "      <td>0</td>\n",
       "      <td>0</td>\n",
       "      <td>0</td>\n",
       "      <td>0</td>\n",
       "      <td>0</td>\n",
       "      <td>0</td>\n",
       "      <td>0</td>\n",
       "      <td>1.0</td>\n",
       "      <td>0</td>\n",
       "      <td>0</td>\n",
       "      <td>0.0</td>\n",
       "      <td>0</td>\n",
       "      <td>0</td>\n",
       "      <td>0</td>\n",
       "      <td>0</td>\n",
       "      <td>0</td>\n",
       "      <td>0</td>\n",
       "    </tr>\n",
       "    <tr>\n",
       "      <th>3</th>\n",
       "      <td>0</td>\n",
       "      <td>849052800.0</td>\n",
       "      <td>0</td>\n",
       "      <td>0</td>\n",
       "      <td>0</td>\n",
       "      <td>0</td>\n",
       "      <td>0</td>\n",
       "      <td>0</td>\n",
       "      <td>0</td>\n",
       "      <td>1.0</td>\n",
       "      <td>0</td>\n",
       "      <td>0</td>\n",
       "      <td>0.0</td>\n",
       "      <td>0</td>\n",
       "      <td>0</td>\n",
       "      <td>0</td>\n",
       "      <td>0</td>\n",
       "      <td>0</td>\n",
       "      <td>0</td>\n",
       "    </tr>\n",
       "    <tr>\n",
       "      <th>4</th>\n",
       "      <td>0</td>\n",
       "      <td>849052800.0</td>\n",
       "      <td>0</td>\n",
       "      <td>0</td>\n",
       "      <td>0</td>\n",
       "      <td>0</td>\n",
       "      <td>0</td>\n",
       "      <td>0</td>\n",
       "      <td>0</td>\n",
       "      <td>1.0</td>\n",
       "      <td>0</td>\n",
       "      <td>0</td>\n",
       "      <td>0.0</td>\n",
       "      <td>0</td>\n",
       "      <td>0</td>\n",
       "      <td>0</td>\n",
       "      <td>0</td>\n",
       "      <td>0</td>\n",
       "      <td>0</td>\n",
       "    </tr>\n",
       "  </tbody>\n",
       "</table>\n",
       "</div>"
      ],
      "text/plain": [
       "   Title         Date  MPAA  Director  Actor  Character  Action  Adventure  \\\n",
       "0      0  849052800.0     0         0      0          0       0          0   \n",
       "1      0  849052800.0     0         0      0          0       0          0   \n",
       "2      0  849052800.0     0         0      0          0       0          0   \n",
       "3      0  849052800.0     0         0      0          0       0          0   \n",
       "4      0  849052800.0     0         0      0          0       0          0   \n",
       "\n",
       "   Black Comedy  Comedy  Concert/Performance  Documentary  Drama  Horror  \\\n",
       "0             0     1.0                    0            0    0.0       0   \n",
       "1             0     1.0                    0            0    0.0       0   \n",
       "2             0     1.0                    0            0    0.0       0   \n",
       "3             0     1.0                    0            0    0.0       0   \n",
       "4             0     1.0                    0            0    0.0       0   \n",
       "\n",
       "   Musical  Romantic Comedy  Thriller/Suspense  Western  MovieSuccessLevel  \n",
       "0        0                0                  0        0                  0  \n",
       "1        0                0                  0        0                  0  \n",
       "2        0                0                  0        0                  0  \n",
       "3        0                0                  0        0                  0  \n",
       "4        0                0                  0        0                  0  "
      ]
     },
     "execution_count": 14,
     "metadata": {},
     "output_type": "execute_result"
    }
   ],
   "source": [
    "test_data.head()"
   ]
  },
  {
   "cell_type": "markdown",
   "metadata": {},
   "source": [
    "## Decision Tree"
   ]
  },
  {
   "cell_type": "code",
   "execution_count": 15,
   "metadata": {},
   "outputs": [],
   "source": [
    "from classifiers import DecisionTreeModel"
   ]
  },
  {
   "cell_type": "code",
   "execution_count": 16,
   "metadata": {},
   "outputs": [
    {
     "name": "stdout",
     "output_type": "stream",
     "text": [
      "Accuracy: 0.0\n",
      "R2: -8.02439024390244\n"
     ]
    }
   ],
   "source": [
    "dt = DecisionTreeModel(train_data)\n",
    "dt.train()\n",
    "dt.predict(test_data)\n",
    "print(f\"Accuracy: {dt.test_accuracy()}\")\n",
    "print(f\"R2: {dt.r2_score()}\")"
   ]
  },
  {
   "cell_type": "code",
   "execution_count": 17,
   "metadata": {},
   "outputs": [
    {
     "data": {
      "text/plain": [
       "<AxesSubplot:>"
      ]
     },
     "execution_count": 17,
     "metadata": {},
     "output_type": "execute_result"
    },
    {
     "data": {
      "image/png": "[encoded data removed]",
      "text/plain": [
       "<Figure size 432x288 with 2 Axes>"
      ]
     },
     "metadata": {
      "needs_background": "light"
     },
     "output_type": "display_data"
    }
   ],
   "source": [
    "sns.heatmap(dt.conf_matrix(), annot=True)"
   ]
  },
  {
   "cell_type": "markdown",
   "metadata": {},
   "source": [
    "## SVM"
   ]
  },
  {
   "cell_type": "code",
   "execution_count": 18,
   "metadata": {},
   "outputs": [],
   "source": [
    "from classifiers import SVMModel"
   ]
  },
  {
   "cell_type": "code",
   "execution_count": 19,
   "metadata": {},
   "outputs": [
    {
     "name": "stdout",
     "output_type": "stream",
     "text": [
      "Accuracy: 0.8\n",
      "R2: -0.21951219512195141\n"
     ]
    }
   ],
   "source": [
    "svm = SVMModel(train_data)\n",
    "svm.train()\n",
    "svm.predict(test_data)\n",
    "print(f\"Accuracy: {svm.test_accuracy()}\")\n",
    "print(f\"R2: {svm.r2_score()}\")"
   ]
  },
  {
   "cell_type": "code",
   "execution_count": 20,
   "metadata": {},
   "outputs": [
    {
     "data": {
      "text/plain": [
       "<AxesSubplot:>"
      ]
     },
     "execution_count": 20,
     "metadata": {},
     "output_type": "execute_result"
    },
    {
     "data": {
      "image/png": "[encoded data removed]",
      "text/plain": [
       "<Figure size 432x288 with 2 Axes>"
      ]
     },
     "metadata": {
      "needs_background": "light"
     },
     "output_type": "display_data"
    }
   ],
   "source": [
    "sns.heatmap(svm.conf_matrix(), annot=True)"
   ]
  },
  {
   "cell_type": "markdown",
   "metadata": {},
   "source": [
    "## Logistic Regression"
   ]
  },
  {
   "cell_type": "code",
   "execution_count": 21,
   "metadata": {},
   "outputs": [],
   "source": [
    "from classifiers import LogisticRegressionModel"
   ]
  },
  {
   "cell_type": "code",
   "execution_count": 22,
   "metadata": {},
   "outputs": [
    {
     "name": "stdout",
     "output_type": "stream",
     "text": [
      "Accuracy: 0.8\n",
      "R2: -0.21951219512195141\n"
     ]
    }
   ],
   "source": [
    "lr = LogisticRegressionModel(train_data)\n",
    "lr.train()\n",
    "lr.predict(test_data)\n",
    "print(f\"Accuracy: {lr.test_accuracy()}\")\n",
    "print(f\"R2: {lr.r2_score()}\")"
   ]
  },
  {
   "cell_type": "code",
   "execution_count": 23,
   "metadata": {},
   "outputs": [
    {
     "data": {
      "text/plain": [
       "<AxesSubplot:>"
      ]
     },
     "execution_count": 23,
     "metadata": {},
     "output_type": "execute_result"
    },
    {
     "data": {
      "image/png": "[encoded data removed]",
      "text/plain": [
       "<Figure size 432x288 with 2 Axes>"
      ]
     },
     "metadata": {
      "needs_background": "light"
     },
     "output_type": "display_data"
    }
   ],
   "source": [
    "sns.heatmap(lr.conf_matrix(), annot=True)"
   ]
  },
  {
   "cell_type": "markdown",
   "metadata": {},
   "source": [
    "# Polynomial Regression"
   ]
  },
  {
   "cell_type": "code",
   "execution_count": 24,
   "metadata": {},
   "outputs": [],
   "source": [
    "from classifiers import PolyRegModel"
   ]
  },
  {
   "cell_type": "code",
   "execution_count": 25,
   "metadata": {},
   "outputs": [
    {
     "name": "stdout",
     "output_type": "stream",
     "text": [
      "Accuracy: 1.0\n",
      "R2: -0.7091544673833434\n"
     ]
    }
   ],
   "source": [
    "pr = PolyRegModel(train_data)\n",
    "pr.train()\n",
    "pr.predict(test_data)\n",
    "print(f\"Accuracy: {pr.test_accuracy()}\")\n",
    "print(f\"R2: {pr.r2_score()}\")"
   ]
  }
 ],
 "metadata": {
  "interpreter": {
   "hash": "e7370f93d1d0cde622a1f8e1c04877d8463912d04d973331ad4851f04de6915a"
  },
  "kernelspec": {
   "display_name": "Python 3 (ipykernel)",
   "language": "python",
   "name": "python3"
  },
  "language_info": {
   "codemirror_mode": {
    "name": "ipython",
    "version": 3
   },
   "file_extension": ".py",
   "mimetype": "text/x-python",
   "name": "python",
   "nbconvert_exporter": "python",
   "pygments_lexer": "ipython3",
   "version": "3.10.4"
  },
  "widgets": {
   "application/vnd.jupyter.widget-state+json": {
    "state": {},
    "version_major": 2,
    "version_minor": 0
   }
  }
 },
 "nbformat": 4,
 "nbformat_minor": 4
}
